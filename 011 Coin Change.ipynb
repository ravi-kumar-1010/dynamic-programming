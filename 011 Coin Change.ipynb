{
 "cells": [
  {
   "cell_type": "code",
   "execution_count": 37,
   "metadata": {},
   "outputs": [],
   "source": [
    "def coinChange(coins,amount):\n",
    "    if amount < coins[0]:\n",
    "        return 0\n",
    "    dp = [-1 for i in range(amount+1)]\n",
    "    dp[0] = 0\n",
    "    for i in coins:\n",
    "        if i < len(dp):\n",
    "            dp[i] = 1\n",
    "    # print(dp)\n",
    "    for i in range(1,amount+1):\n",
    "        if dp[i] == -1:\n",
    "            combinations = []\n",
    "            for c in coins:\n",
    "                if i > c and dp[i-c] != -1:\n",
    "                    # print(\"coin: \",c)\n",
    "                    combinations.append(dp[i-c] + dp[c])\n",
    "            if len(combinations) > 0:\n",
    "                # print(combinations)\n",
    "                dp[i] = min(combinations)\n",
    "    return dp[-1]"
   ]
  },
  {
   "cell_type": "code",
   "execution_count": 38,
   "metadata": {},
   "outputs": [
    {
     "data": {
      "text/plain": [
       "2"
      ]
     },
     "execution_count": 38,
     "metadata": {},
     "output_type": "execute_result"
    }
   ],
   "source": [
    "coinChange([1,2147483647],2)"
   ]
  },
  {
   "cell_type": "code",
   "execution_count": 39,
   "metadata": {},
   "outputs": [],
   "source": [
    "a= [2,5,3,1]\n",
    "a.sort()"
   ]
  },
  {
   "cell_type": "code",
   "execution_count": 40,
   "metadata": {},
   "outputs": [
    {
     "data": {
      "text/plain": [
       "[1, 2, 3, 5]"
      ]
     },
     "execution_count": 40,
     "metadata": {},
     "output_type": "execute_result"
    }
   ],
   "source": [
    "a"
   ]
  },
  {
   "cell_type": "code",
   "execution_count": null,
   "metadata": {},
   "outputs": [],
   "source": []
  }
 ],
 "metadata": {
  "kernelspec": {
   "display_name": "Python 3.9.7 ('base')",
   "language": "python",
   "name": "python3"
  },
  "language_info": {
   "codemirror_mode": {
    "name": "ipython",
    "version": 3
   },
   "file_extension": ".py",
   "mimetype": "text/x-python",
   "name": "python",
   "nbconvert_exporter": "python",
   "pygments_lexer": "ipython3",
   "version": "3.9.7"
  },
  "orig_nbformat": 4,
  "vscode": {
   "interpreter": {
    "hash": "cabd9b9465f5446563c02a49673f20e993021516e3534949cbdc0753d9117ed6"
   }
  }
 },
 "nbformat": 4,
 "nbformat_minor": 2
}
