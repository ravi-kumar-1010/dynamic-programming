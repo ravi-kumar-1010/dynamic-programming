{
 "cells": [
  {
   "cell_type": "code",
   "execution_count": 1,
   "metadata": {},
   "outputs": [
    {
     "name": "stdout",
     "output_type": "stream",
     "text": [
      "m:3,n:3\n",
      "m:2,n:3\n",
      "m:1,n:3\n",
      "m:2,n:2\n",
      "m:1,n:2\n",
      "m:2,n:1\n",
      "m:3,n:2\n",
      "m:2,n:2\n",
      "m:1,n:2\n",
      "m:2,n:1\n",
      "m:3,n:1\n",
      "6\n"
     ]
    }
   ],
   "source": [
    "def numberOfPaths(m, n):\n",
    "    print(f\"m:{m},n:{n}\")\n",
    "    if(m == 1 or n == 1):\n",
    "        return 1\n",
    "    return numberOfPaths(m-1, n) + numberOfPaths(m, n-1)\n",
    "  \n",
    "m = 3\n",
    "n = 3\n",
    "print(numberOfPaths(m, n))\n",
    "  "
   ]
  },
  {
   "cell_type": "code",
   "execution_count": 2,
   "metadata": {},
   "outputs": [
    {
     "name": "stdout",
     "output_type": "stream",
     "text": [
      "1 \n",
      "1 1 \n",
      "1 2 1 \n",
      "1 3 3 1 \n",
      "1 4 6 4 1 \n",
      "1 5 10 10 5 1 \n",
      "1 6 15 20 15 6 1 \n",
      "1 7 21 35 35 21 7 1 \n",
      "1 8 28 56 70 56 28 8 1 \n",
      "1 9 36 84 126 126 84 36 9 1 \n",
      "1 10 45 120 210 252 210 120 45 10 1 \n",
      "1 11 55 165 330 462 462 330 165 55 11 1 \n",
      "1 12 66 220 495 792 924 792 495 220 66 12 1 \n"
     ]
    }
   ],
   "source": [
    "def printPascal(n): \n",
    "  \n",
    "    for line in range(1, n + 1): \n",
    "        C = 1; # used to represent C(line, i) \n",
    "        for i in range(1, line + 1): \n",
    "              \n",
    "            # The first value in a \n",
    "            # line is always 1 \n",
    "            print(C, end = \" \"); \n",
    "            C = int(C * (line - i) / i); \n",
    "        print(\"\"); \n",
    "  \n",
    "# Driver code \n",
    "n = 13; \n",
    "printPascal(n)\n",
    "  "
   ]
  },
  {
   "cell_type": "code",
   "execution_count": 24,
   "metadata": {},
   "outputs": [
    {
     "data": {
      "text/plain": [
       "[[0, 0, 0, 0, 0, 0, 0, 0],\n",
       " [0, 1, 1, 1, 1, 1, 1, 1],\n",
       " [0, 1, 2, 3, 4, 5, 6, 7],\n",
       " [0, 1, 3, 6, 10, 15, 21, 28]]"
      ]
     },
     "execution_count": 24,
     "metadata": {},
     "output_type": "execute_result"
    }
   ],
   "source": [
    "m = 3 #no of rows\n",
    "n = 7 #no of columns\n",
    "grid = [[0 for i in range(n+1)] for j in range(m+1)]\n",
    "for i in range(1,m+1):  # Row\n",
    "    grid[i][1] = 1\n",
    "for j in range(1,n+1): # Column\n",
    "    grid[1][j] = 1\n",
    "for i in range(2,m+1):\n",
    "    for j in range(2,n+1):\n",
    "        grid[i][j] = grid[i-1][j] + grid[i][j-1]\n",
    "grid"
   ]
  },
  {
   "cell_type": "code",
   "execution_count": 23,
   "metadata": {},
   "outputs": [
    {
     "data": {
      "text/plain": [
       "[[0, 0, 0, 0, 0, 0, 0, 0],\n",
       " [0, 0, 0, 0, 0, 0, 0, 0],\n",
       " [0, 0, 0, 0, 0, 0, 0, 0],\n",
       " [0, 0, 0, 0, 0, 0, 0, 0]]"
      ]
     },
     "execution_count": 23,
     "metadata": {},
     "output_type": "execute_result"
    }
   ],
   "source": [
    "m = 3\n",
    "n = 7\n",
    "grid = [[0 for i in range(n+1)] for j in range(m+1)]\n",
    "grid"
   ]
  },
  {
   "cell_type": "code",
   "execution_count": null,
   "metadata": {},
   "outputs": [],
   "source": []
  }
 ],
 "metadata": {
  "kernelspec": {
   "display_name": "Python 3.9.7 ('base')",
   "language": "python",
   "name": "python3"
  },
  "language_info": {
   "codemirror_mode": {
    "name": "ipython",
    "version": 3
   },
   "file_extension": ".py",
   "mimetype": "text/x-python",
   "name": "python",
   "nbconvert_exporter": "python",
   "pygments_lexer": "ipython3",
   "version": "3.9.7"
  },
  "orig_nbformat": 4,
  "vscode": {
   "interpreter": {
    "hash": "cabd9b9465f5446563c02a49673f20e993021516e3534949cbdc0753d9117ed6"
   }
  }
 },
 "nbformat": 4,
 "nbformat_minor": 2
}
