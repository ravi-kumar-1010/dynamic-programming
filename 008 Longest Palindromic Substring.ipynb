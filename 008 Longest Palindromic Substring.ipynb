{
 "cells": [
  {
   "cell_type": "code",
   "execution_count": 1,
   "metadata": {},
   "outputs": [],
   "source": [
    "def palindromic(s):\n",
    "    res = \"\"\n",
    "    resLen = 0\n",
    "    for i in range(len(s)):\n",
    "        # odd length\n",
    "        l,r = i,i\n",
    "        while l >=0 and r <len(s) and s[l] == s[r]:\n",
    "            if r-l+1 > resLen:\n",
    "                res = s[l:r+1]\n",
    "                resLen = r-l+1\n",
    "            l -=1\n",
    "            r +=1\n",
    "        l,r = i,i+1\n",
    "        while l >=0 and r <len(s) and s[l] == s[r]:\n",
    "            if r-l+1 > resLen:\n",
    "                res = s[l:r+1]\n",
    "                resLen = r-l+1\n",
    "            l -=1\n",
    "            r +=1\n",
    "    return res"
   ]
  },
  {
   "cell_type": "code",
   "execution_count": 2,
   "metadata": {},
   "outputs": [
    {
     "data": {
      "text/plain": [
       "['b', 'a', 'b']"
      ]
     },
     "execution_count": 2,
     "metadata": {},
     "output_type": "execute_result"
    }
   ],
   "source": [
    "palindromic(['b','a','b','a','c'])"
   ]
  },
  {
   "cell_type": "code",
   "execution_count": null,
   "metadata": {},
   "outputs": [],
   "source": []
  }
 ],
 "metadata": {
  "kernelspec": {
   "display_name": "Python 3.9.7 ('base')",
   "language": "python",
   "name": "python3"
  },
  "language_info": {
   "codemirror_mode": {
    "name": "ipython",
    "version": 3
   },
   "file_extension": ".py",
   "mimetype": "text/x-python",
   "name": "python",
   "nbconvert_exporter": "python",
   "pygments_lexer": "ipython3",
   "version": "3.9.7"
  },
  "orig_nbformat": 4,
  "vscode": {
   "interpreter": {
    "hash": "cabd9b9465f5446563c02a49673f20e993021516e3534949cbdc0753d9117ed6"
   }
  }
 },
 "nbformat": 4,
 "nbformat_minor": 2
}
