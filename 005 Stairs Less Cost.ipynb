{
 "cells": [
  {
   "cell_type": "code",
   "execution_count": 17,
   "metadata": {},
   "outputs": [],
   "source": [
    "## Recursive\n",
    "def stairs(costs):\n",
    "    def climb(i,cost):\n",
    "        print(i,cost)\n",
    "        if i >= len(costs):\n",
    "            return cost\n",
    "        return min(climb(i+1,cost+costs[i]),climb(i+2,cost+costs[i]))\n",
    "    return min(climb(0,0),climb(1,0))"
   ]
  },
  {
   "cell_type": "code",
   "execution_count": 19,
   "metadata": {},
   "outputs": [
    {
     "name": "stdout",
     "output_type": "stream",
     "text": [
      "0 0\n",
      "1 1\n",
      "2 101\n",
      "3 102\n",
      "4 104\n",
      "5 107\n",
      "6 107\n",
      "5 104\n",
      "4 102\n",
      "5 105\n",
      "6 105\n",
      "3 101\n",
      "4 103\n",
      "5 106\n",
      "6 106\n",
      "5 103\n",
      "2 1\n",
      "3 2\n",
      "4 4\n",
      "5 7\n",
      "6 7\n",
      "5 4\n",
      "4 2\n",
      "5 5\n",
      "6 5\n",
      "1 0\n",
      "2 100\n",
      "3 101\n",
      "4 103\n",
      "5 106\n",
      "6 106\n",
      "5 103\n",
      "4 101\n",
      "5 104\n",
      "6 104\n",
      "3 100\n",
      "4 102\n",
      "5 105\n",
      "6 105\n",
      "5 102\n"
     ]
    },
    {
     "data": {
      "text/plain": [
       "4"
      ]
     },
     "execution_count": 19,
     "metadata": {},
     "output_type": "execute_result"
    }
   ],
   "source": [
    "stairs([1,100,1,2,3])   "
   ]
  },
  {
   "cell_type": "code",
   "execution_count": 47,
   "metadata": {},
   "outputs": [],
   "source": [
    "def climb(costs):\n",
    "    sol = [0 for i in range(len(costs)+1)]\n",
    "    sol[-2] = costs[-1]\n",
    "    for i in range(len(costs)-2,-1,-1):\n",
    "        sol[i] = min(costs[i]+sol[i+1],costs[i]+sol[i+2])\n",
    "    return min(sol[0],sol[1])"
   ]
  },
  {
   "cell_type": "code",
   "execution_count": null,
   "metadata": {},
   "outputs": [],
   "source": []
  },
  {
   "cell_type": "code",
   "execution_count": 48,
   "metadata": {},
   "outputs": [
    {
     "data": {
      "text/plain": [
       "15"
      ]
     },
     "execution_count": 48,
     "metadata": {},
     "output_type": "execute_result"
    }
   ],
   "source": [
    "climb([10,15,20])"
   ]
  },
  {
   "cell_type": "code",
   "execution_count": null,
   "metadata": {},
   "outputs": [],
   "source": []
  }
 ],
 "metadata": {
  "kernelspec": {
   "display_name": "Python 3.9.7 ('base')",
   "language": "python",
   "name": "python3"
  },
  "language_info": {
   "codemirror_mode": {
    "name": "ipython",
    "version": 3
   },
   "file_extension": ".py",
   "mimetype": "text/x-python",
   "name": "python",
   "nbconvert_exporter": "python",
   "pygments_lexer": "ipython3",
   "version": "3.9.7"
  },
  "orig_nbformat": 4,
  "vscode": {
   "interpreter": {
    "hash": "cabd9b9465f5446563c02a49673f20e993021516e3534949cbdc0753d9117ed6"
   }
  }
 },
 "nbformat": 4,
 "nbformat_minor": 2
}
