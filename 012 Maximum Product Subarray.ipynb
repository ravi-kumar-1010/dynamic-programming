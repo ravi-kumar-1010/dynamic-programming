{
 "cells": [
  {
   "cell_type": "code",
   "execution_count": 14,
   "metadata": {},
   "outputs": [
    {
     "name": "stdout",
     "output_type": "stream",
     "text": [
      "0 0 0\n",
      "-2 0 0\n"
     ]
    }
   ],
   "source": [
    "nums = [-2,0,-2]\n",
    "lmin,lmax = nums[0],nums[0]\n",
    "gmax = nums[0]\n",
    "for i in range(1,len(nums)):\n",
    "    considered = nums[i]\n",
    "    a,b = lmax*considered,lmin*considered\n",
    "    lmax = max([a,b,considered])\n",
    "    lmin = min([a,b,considered])\n",
    "    if considered == 0:\n",
    "        lmax = 0\n",
    "        lmin = 0\n",
    "    if lmax > gmax:\n",
    "        gmax = lmax\n",
    "    print(lmin,lmax,gmax)"
   ]
  },
  {
   "cell_type": "code",
   "execution_count": null,
   "metadata": {},
   "outputs": [],
   "source": []
  }
 ],
 "metadata": {
  "kernelspec": {
   "display_name": "Python 3.9.7 ('base')",
   "language": "python",
   "name": "python3"
  },
  "language_info": {
   "codemirror_mode": {
    "name": "ipython",
    "version": 3
   },
   "file_extension": ".py",
   "mimetype": "text/x-python",
   "name": "python",
   "nbconvert_exporter": "python",
   "pygments_lexer": "ipython3",
   "version": "3.9.7"
  },
  "orig_nbformat": 4,
  "vscode": {
   "interpreter": {
    "hash": "cabd9b9465f5446563c02a49673f20e993021516e3534949cbdc0753d9117ed6"
   }
  }
 },
 "nbformat": 4,
 "nbformat_minor": 2
}
