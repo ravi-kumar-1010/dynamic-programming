{
 "cells": [
  {
   "cell_type": "code",
   "execution_count": 18,
   "metadata": {},
   "outputs": [
    {
     "name": "stdout",
     "output_type": "stream",
     "text": [
      "18\n",
      "Starting to make animation\n",
      "File coinchange.png successfully written\n",
      "Writing frames....\n",
      "Writing gif...\n",
      "Saved gif coinchange.gif successfully\n"
     ]
    }
   ],
   "source": [
    "from visualiser.visualiser import Visualiser as vs\n",
    "def changeout(coins,amt):\n",
    "    res = 0\n",
    "    dp = {}\n",
    "    @vs(node_properties_kwargs={\"shape\":\"record\", \"color\":\"#f57542\", \"style\":\"filled\", \"fillcolor\":\"grey\"})\n",
    "    def change(amt):\n",
    "        org = amt\n",
    "        if amt == 0:\n",
    "            return 1\n",
    "        res = 0\n",
    "        for i in coins:\n",
    "            amt = org\n",
    "            amt = amt - i\n",
    "            if amt >= 0:\n",
    "                res += change(amt)\n",
    "        return res\n",
    "    return change(amt)\n",
    "\n",
    "def main():\n",
    "    # Call function\n",
    "    print(changeout([1,3,4,5],7))\n",
    "    # Save recursion tree to a file\n",
    "    vs.make_animation(\"coinchange.gif\", delay=0.01)\n",
    "\n",
    "if __name__ == \"__main__\":\n",
    "    main()"
   ]
  },
  {
   "cell_type": "code",
   "execution_count": 4,
   "metadata": {},
   "outputs": [
    {
     "name": "stdout",
     "output_type": "stream",
     "text": [
      "7 6\n",
      "6 5\n",
      "5 4\n",
      "4 3\n",
      "3 2\n",
      "2 1\n",
      "1 0\n",
      "3 0\n",
      "4 1\n",
      "1 0\n",
      "4 0\n",
      "5 2\n",
      "2 1\n",
      "1 0\n",
      "5 1\n",
      "1 0\n",
      "5 0\n",
      "6 3\n",
      "3 2\n",
      "2 1\n",
      "1 0\n",
      "3 0\n",
      "6 2\n",
      "2 1\n",
      "1 0\n",
      "6 1\n",
      "1 0\n",
      "7 4\n",
      "4 3\n",
      "3 2\n",
      "2 1\n",
      "1 0\n",
      "3 0\n",
      "4 1\n",
      "1 0\n",
      "4 0\n",
      "7 3\n",
      "3 2\n",
      "2 1\n",
      "1 0\n",
      "3 0\n",
      "7 2\n",
      "2 1\n",
      "1 0\n"
     ]
    }
   ],
   "source": [
    "changeout([1,3,4,5],7)"
   ]
  },
  {
   "cell_type": "code",
   "execution_count": 1,
   "metadata": {},
   "outputs": [
    {
     "name": "stdout",
     "output_type": "stream",
     "text": [
      "8\n",
      "Starting to make animation\n",
      "Writing fibonacci.png failed\n",
      "Writing frames....\n",
      "Error writing frames\n",
      "Writing gif...\n",
      "Error saving gif.\n"
     ]
    }
   ],
   "source": [
    "# Import Visualiser class from module visualiser\n",
    "from visualiser.visualiser import Visualiser as vs\n",
    "\n",
    "# Add decorator\n",
    "# Decorator accepts optional arguments: ignore_args , show_argument_name, show_return_value and node_properties_kwargs\n",
    "@vs(node_properties_kwargs={\"shape\":\"record\", \"color\":\"#f57542\", \"style\":\"filled\", \"fillcolor\":\"grey\"})\n",
    "def fib(n):\n",
    "    if n <= 1:\n",
    "        return n\n",
    "    return fib(n=n - 1) + fib(n=n - 2)\n",
    "\n",
    "\n",
    "def main():\n",
    "    # Call function\n",
    "    print(fib(n=6))\n",
    "    # Save recursion tree to a file\n",
    "    vs.make_animation(\"fibonacci.gif\", delay=2)\n",
    "\n",
    "\n",
    "if __name__ == \"__main__\":\n",
    "    main()"
   ]
  },
  {
   "cell_type": "code",
   "execution_count": 1,
   "metadata": {},
   "outputs": [
    {
     "name": "stdout",
     "output_type": "stream",
     "text": [
      "8\n",
      "Starting to make animation\n",
      "File fibonacci.png successfully written\n",
      "Writing frames....\n",
      "Writing gif...\n",
      "Saved gif fibonacci.gif successfully\n"
     ]
    }
   ],
   "source": [
    "from visualiser.visualiser import Visualiser as vs\n",
    "\n",
    "# Add decorator\n",
    "# Decorator accepts optional arguments: ignore_args , show_argument_name, show_return_value and node_properties_kwargs\n",
    "@vs(node_properties_kwargs={\"shape\":\"record\", \"color\":\"#f57542\", \"style\":\"filled\", \"fillcolor\":\"grey\"})\n",
    "def fib(n):\n",
    "    if n <= 1:\n",
    "        return n\n",
    "    return fib(n=n - 1) + fib(n=n - 2)\n",
    "\n",
    "\n",
    "def main():\n",
    "    # Call function\n",
    "    print(fib(n=6))\n",
    "    # Save recursion tree to a file\n",
    "    vs.make_animation(\"fibonacci.gif\", delay=2)\n",
    "\n",
    "\n",
    "if __name__ == \"__main__\":\n",
    "    main()"
   ]
  },
  {
   "cell_type": "code",
   "execution_count": 28,
   "metadata": {},
   "outputs": [
    {
     "name": "stdout",
     "output_type": "stream",
     "text": [
      "{1: 1, 3: 1, 4: 1, 5: 1}\n",
      "Call for:  2\n",
      "Call for:  1\n",
      "Returning:  1\n",
      "Returned:  1\n"
     ]
    },
    {
     "ename": "KeyError",
     "evalue": "2",
     "output_type": "error",
     "traceback": [
      "\u001b[1;31m---------------------------------------------------------------------------\u001b[0m",
      "\u001b[1;31mKeyError\u001b[0m                                  Traceback (most recent call last)",
      "\u001b[1;32m~\\AppData\\Local\\Temp/ipykernel_13512/1047168974.py\u001b[0m in \u001b[0;36m<module>\u001b[1;34m\u001b[0m\n\u001b[0;32m     34\u001b[0m \u001b[1;33m\u001b[0m\u001b[0m\n\u001b[0;32m     35\u001b[0m \u001b[1;32mif\u001b[0m \u001b[0m__name__\u001b[0m \u001b[1;33m==\u001b[0m \u001b[1;34m\"__main__\"\u001b[0m\u001b[1;33m:\u001b[0m\u001b[1;33m\u001b[0m\u001b[1;33m\u001b[0m\u001b[0m\n\u001b[1;32m---> 36\u001b[1;33m     \u001b[0mmain\u001b[0m\u001b[1;33m(\u001b[0m\u001b[1;33m)\u001b[0m\u001b[1;33m\u001b[0m\u001b[1;33m\u001b[0m\u001b[0m\n\u001b[0m",
      "\u001b[1;32m~\\AppData\\Local\\Temp/ipykernel_13512/1047168974.py\u001b[0m in \u001b[0;36mmain\u001b[1;34m()\u001b[0m\n\u001b[0;32m     29\u001b[0m \u001b[1;32mdef\u001b[0m \u001b[0mmain\u001b[0m\u001b[1;33m(\u001b[0m\u001b[1;33m)\u001b[0m\u001b[1;33m:\u001b[0m\u001b[1;33m\u001b[0m\u001b[1;33m\u001b[0m\u001b[0m\n\u001b[0;32m     30\u001b[0m     \u001b[1;31m# Call function\u001b[0m\u001b[1;33m\u001b[0m\u001b[1;33m\u001b[0m\u001b[0m\n\u001b[1;32m---> 31\u001b[1;33m     \u001b[0mprint\u001b[0m\u001b[1;33m(\u001b[0m\u001b[0mchangeout\u001b[0m\u001b[1;33m(\u001b[0m\u001b[1;33m[\u001b[0m\u001b[1;36m1\u001b[0m\u001b[1;33m,\u001b[0m\u001b[1;36m3\u001b[0m\u001b[1;33m,\u001b[0m\u001b[1;36m4\u001b[0m\u001b[1;33m,\u001b[0m\u001b[1;36m5\u001b[0m\u001b[1;33m]\u001b[0m\u001b[1;33m,\u001b[0m\u001b[1;36m2\u001b[0m\u001b[1;33m)\u001b[0m\u001b[1;33m)\u001b[0m\u001b[1;33m\u001b[0m\u001b[1;33m\u001b[0m\u001b[0m\n\u001b[0m\u001b[0;32m     32\u001b[0m     \u001b[1;31m# Save recursion tree to a file\u001b[0m\u001b[1;33m\u001b[0m\u001b[1;33m\u001b[0m\u001b[0m\n\u001b[0;32m     33\u001b[0m     \u001b[1;31m# vs.make_animation(\"coinchange.gif\", delay=0.01)\u001b[0m\u001b[1;33m\u001b[0m\u001b[1;33m\u001b[0m\u001b[0m\n",
      "\u001b[1;32m~\\AppData\\Local\\Temp/ipykernel_13512/1047168974.py\u001b[0m in \u001b[0;36mchangeout\u001b[1;34m(coins, amt)\u001b[0m\n\u001b[0;32m     25\u001b[0m         \u001b[0mdp\u001b[0m\u001b[1;33m[\u001b[0m\u001b[0mamt\u001b[0m\u001b[1;33m]\u001b[0m \u001b[1;33m=\u001b[0m \u001b[0mres\u001b[0m\u001b[1;33m\u001b[0m\u001b[1;33m\u001b[0m\u001b[0m\n\u001b[0;32m     26\u001b[0m     \u001b[0mchange\u001b[0m\u001b[1;33m(\u001b[0m\u001b[0mamt\u001b[0m\u001b[1;33m)\u001b[0m\u001b[1;33m\u001b[0m\u001b[1;33m\u001b[0m\u001b[0m\n\u001b[1;32m---> 27\u001b[1;33m     \u001b[1;32mreturn\u001b[0m \u001b[0mdp\u001b[0m\u001b[1;33m[\u001b[0m\u001b[0mamt\u001b[0m\u001b[1;33m]\u001b[0m\u001b[1;33m\u001b[0m\u001b[1;33m\u001b[0m\u001b[0m\n\u001b[0m\u001b[0;32m     28\u001b[0m \u001b[1;33m\u001b[0m\u001b[0m\n\u001b[0;32m     29\u001b[0m \u001b[1;32mdef\u001b[0m \u001b[0mmain\u001b[0m\u001b[1;33m(\u001b[0m\u001b[1;33m)\u001b[0m\u001b[1;33m:\u001b[0m\u001b[1;33m\u001b[0m\u001b[1;33m\u001b[0m\u001b[0m\n",
      "\u001b[1;31mKeyError\u001b[0m: 2"
     ]
    }
   ],
   "source": [
    "# from visualiser.visualiser import Visualiser as vs\n",
    "def changeout(coins,amt):\n",
    "    res = 0\n",
    "    dp = {}\n",
    "    for i in coins:\n",
    "        dp[i] = 1\n",
    "    print(dp)\n",
    "    # @vs(node_properties_kwargs={\"shape\":\"record\", \"color\":\"#f57542\", \"style\":\"filled\", \"fillcolor\":\"grey\"})\n",
    "    def change(amt):\n",
    "        print(\"Call for: \",amt)\n",
    "        org = amt\n",
    "        if amt in dp:\n",
    "            print(\"Returning: \",dp[amt])\n",
    "            return dp[amt]\n",
    "        res = 0\n",
    "        for i in coins:\n",
    "            amt = org\n",
    "            amt = amt - i\n",
    "            if amt >= 0:\n",
    "                temp = change(amt)\n",
    "                print(\"Returned: \",temp)\n",
    "                if temp is None:\n",
    "                    print(\"Culprit: \",amt)\n",
    "                res += temp\n",
    "        dp[amt] = res \n",
    "    change(amt)\n",
    "    return dp[amt]\n",
    "\n",
    "def main():\n",
    "    # Call function\n",
    "    print(changeout([1,3,4,5],2))\n",
    "    # Save recursion tree to a file\n",
    "    # vs.make_animation(\"coinchange.gif\", delay=0.01)\n",
    "\n",
    "if __name__ == \"__main__\":\n",
    "    main()"
   ]
  },
  {
   "cell_type": "code",
   "execution_count": 41,
   "metadata": {},
   "outputs": [
    {
     "name": "stdout",
     "output_type": "stream",
     "text": [
      "Call at :  6  -  1 subproblem for :  5 Result:  1 dp:  {0: 0, 1: 1, 3: 1, 4: 1, 5: 1}\n",
      "Call at :  6  -  3 subproblem for :  3 Result:  1 dp:  {0: 0, 1: 1, 3: 1, 4: 1, 5: 1}\n",
      "Call at :  2  -  1 subproblem for :  1 Result:  1 dp:  {0: 0, 1: 1, 3: 2, 4: 1, 5: 1}\n",
      "Call at :  6  -  4 subproblem for :  2 Result:  1 dp:  {0: 0, 1: 1, 3: 2, 4: 1, 5: 1, -1: 1, -2: 1, -3: 1}\n",
      "Call at :  6  -  5 subproblem for :  1 Result:  1 dp:  {0: 0, 1: 1, 3: 2, 4: 1, 5: 1, -1: 1, -2: 1, -3: 1, 2: 3}\n",
      "Call at :  7  -  1 subproblem for :  6 Result:  4 dp:  {0: 0, 1: 4, 3: 2, 4: 1, 5: 1, -1: 1, -2: 1, -3: 1, 2: 3}\n",
      "Call at :  7  -  3 subproblem for :  4 Result:  1 dp:  {0: 0, 1: 4, 3: 2, 4: 1, 5: 1, -1: 1, -2: 1, -3: 1, 2: 3, 6: 4}\n",
      "Call at :  7  -  4 subproblem for :  3 Result:  2 dp:  {0: 0, 1: 4, 3: 2, 4: 5, 5: 1, -1: 1, -2: 1, -3: 1, 2: 3, 6: 4}\n",
      "Call at :  7  -  5 subproblem for :  2 Result:  3 dp:  {0: 0, 1: 4, 3: 7, 4: 5, 5: 1, -1: 1, -2: 1, -3: 1, 2: 3, 6: 4}\n",
      "10\n",
      "Starting to make animation\n",
      "File coinchange.png successfully written\n",
      "Writing frames....\n",
      "Writing gif...\n",
      "Saved gif coinchange.gif successfully\n"
     ]
    }
   ],
   "source": [
    "from visualiser.visualiser import Visualiser as vs\n",
    "def changeout(coins,amt):\n",
    "    res = 0\n",
    "    dp = {}\n",
    "    dp[0] = 0\n",
    "    for i in coins:\n",
    "        dp[i] = 1\n",
    "    @vs(node_properties_kwargs={\"shape\":\"record\", \"color\":\"#f57542\", \"style\":\"filled\", \"fillcolor\":\"grey\"})\n",
    "    def change(amt):\n",
    "        if amt in dp:\n",
    "            return dp[amt]\n",
    "        org = amt\n",
    "        res = 0\n",
    "        for i in coins:\n",
    "            amt = org\n",
    "            amt = amt - i\n",
    "            if amt >= 0:\n",
    "                temp = change(amt)\n",
    "                print(\"Call at : \",org,\" - \",i,\"subproblem for : \",amt,\"Result: \",temp,\"dp: \",dp)\n",
    "                res += temp\n",
    "            dp[amt] = res\n",
    "        return res\n",
    "    return change(amt)\n",
    "\n",
    "def main():\n",
    "    # Call function\n",
    "    print(changeout([1,3,4,5],7))\n",
    "    # Save recursion tree to a file\n",
    "    vs.make_animation(\"coinchange.gif\", delay=0.01)\n",
    "\n",
    "if __name__ == \"__main__\":\n",
    "    main()"
   ]
  },
  {
   "cell_type": "code",
   "execution_count": null,
   "metadata": {},
   "outputs": [],
   "source": []
  }
 ],
 "metadata": {
  "kernelspec": {
   "display_name": "Python 3.9.7 ('base')",
   "language": "python",
   "name": "python3"
  },
  "language_info": {
   "codemirror_mode": {
    "name": "ipython",
    "version": 3
   },
   "file_extension": ".py",
   "mimetype": "text/x-python",
   "name": "python",
   "nbconvert_exporter": "python",
   "pygments_lexer": "ipython3",
   "version": "3.9.7"
  },
  "orig_nbformat": 4,
  "vscode": {
   "interpreter": {
    "hash": "cabd9b9465f5446563c02a49673f20e993021516e3534949cbdc0753d9117ed6"
   }
  }
 },
 "nbformat": 4,
 "nbformat_minor": 2
}
